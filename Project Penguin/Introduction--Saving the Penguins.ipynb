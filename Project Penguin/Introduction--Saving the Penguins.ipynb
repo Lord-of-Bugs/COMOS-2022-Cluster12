{
 "cells": [
  {
   "cell_type": "markdown",
   "metadata": {},
   "source": [
    "# Back Story"
   ]
  },
  {
   "cell_type": "markdown",
   "metadata": {},
   "source": [
    "You've long heard and read about the Emperor penguins and such, but you've never seen one in the flesh. Luckily, National Geographics's foundation at your local community awards a dozen scholarship opprotunities each year to fulfill students' science dreams and you are selected! You are now invited to tour famous Antarctic island-trio Torgensen, Biscoe, and Dream Island and observe the local penguin species up close!<br>\n",
    "\n",
    "Before you depart, you prepared yourself by reading through a handful of wiki pages about penguins so now you can properly name them (not just \"oh that's a penguin\" anymore)!<br>\n",
    "Just to demonstrate your enriched backgrounds with penguins, you now know that there're the King penguins and they look like this<br><img src=\"images/king.png\" width=450, heigh=400><br> There are of course the renowned Emperor penguins <br><img src=\"images/emperor.png\" width=450, heigh=400><br> Then there are the swaggy-looking Macaroni penguins <br><img src=\"images/macaroni.png\" width=450, heigh=400><br> There are also the smaller and cuter Adelie penguins <br><img src=\"images/adelie.png\" width=450, heigh=400><br> So are the Gentoo penguins <br><img src=\"images/gentoo.png\" width=450, heigh=400><br> Last but not least, there are the Chinstrap penguins <br><img src=\"images/chinstrap.png\" width=450, heigh=400><br>\n",
    "\n",
    "Not only do you know how these penguins look, you also found information on their relative sizes and weights, as is the following: <br><img src=\"images/mugshot2.png\" width=800, heigh=400><br>\n",
    "While you may still be surprised by seeing other species of penguins, you are now confident that as long as you see a penguin that is of one of the 6 species you researched about, you would not mistaken it for anything else.<br>\n",
    "\n",
    "Bearing great excitement and passion, you arrived at the camps at Torgensen Island and you can't wait for everything to begin."
   ]
  },
  {
   "cell_type": "markdown",
   "metadata": {},
   "source": [
    "# Your Task"
   ]
  },
  {
   "cell_type": "markdown",
   "metadata": {},
   "source": [
    "It is now 2:30 AM in the morning and you are waken up from sleep by a sudden ground-shaking. You feel extremely confused and concerned as Pie rushes into your tent. He says that they've all just been struck by an earthquake initiated by a sequence of abnormal submarine volcanic activity and according to the security protocols, everyone needs to be evacuated, along with as many endangered wildlives as possible. He put you in charge of the penguin sector, handed you a spreadsheet that contains all observed penguins on file that live on or close to the three neighboring islands and warned you to board the evacuation ship immediately.<br>\n",
    "\n",
    "Here is the first thought you are able to gather once you got settled on the ship.<br>\n",
    "\n",
    "First and foremost, you would like to identify and separate the huge cohort of penguins back into groups of only their respective species, so that the individuals of same species can be gathered, assessed, and taken care of in further advance. While this may seem like a easy task--different species of penguins must look different--but you can't possibly examine each penguin with your own eye since there are just too many of them and not every one would behave, plus that you don't even know how many species of penguins are there in your rescued group. However, now that you are a properly-equipped Pythonian programmer, you know you have the ability to solve this task efficiently and effortlessly through code.<br>\n",
    "\n",
    "Hence, simply put, the first but yet most pivotal task you outlined to yourself is assigning each individual penguin to the correct, respective cluster of its own species. Think about how you can achieve this with your programming and algorithmic knowledge. When you're ready, you can move forward and dive into the details of solving this mission with the `Saving the Penguins Through K-Means Clustering` notebook."
   ]
  },
  {
   "cell_type": "markdown",
   "metadata": {},
   "source": []
  }
 ],
 "metadata": {
  "kernelspec": {
   "display_name": "Python 3.9.1 64-bit",
   "language": "python",
   "name": "python3"
  },
  "language_info": {
   "name": "python",
   "version": "3.9.1"
  },
  "orig_nbformat": 4,
  "vscode": {
   "interpreter": {
    "hash": "aee8b7b246df8f9039afb4144a1f6fd8d2ca17a180786b69acc140d282b71a49"
   }
  }
 },
 "nbformat": 4,
 "nbformat_minor": 2
}
